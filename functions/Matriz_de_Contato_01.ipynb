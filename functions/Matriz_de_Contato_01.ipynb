{
  "cells": [
    {
      "cell_type": "code",
      "execution_count": 35,
      "metadata": {
        "id": "tCar6AgbbSIg"
      },
      "outputs": [],
      "source": [
        "import numpy as np\n",
        "import pandas as pd\n",
        "import os\n",
        "import urllib.request\n",
        "import rpy2.robjects as robjects"
      ]
    },
    {
      "cell_type": "code",
      "execution_count": 36,
      "metadata": {
        "id": "KaqGatpRDBoT"
      },
      "outputs": [],
      "source": [
        "# mat_cont: matriz quadrada (n x n) que será reagrupada\n",
        "# aggregate_indices: lista de listas, cada sublista contém os índices das idades a serem agregadas.\n",
        "  # Exemplo: [[0, 1], [2, 3]] agrupa as faixas etárias 0 e 1 em um único grupo e as faixas 2 e 3 em outro.\n",
        "# age_structure (opcional): vetor que especifica a estrutura etária (tamanho relativo de cada grupo etário)\n",
        "  #Por padrão, assume valores iguais (população uniformemente distribuída).\n",
        "# silent (opcional): valor booleano\n",
        "  # define se mensagens de aviso sobre discrepâncias em age_structure devem ser exibidas.\n",
        "  # True (silencioso).\n",
        "\n",
        "def aggregate_age_matrix(mat_cont, aggregate_indices, age_structure=None, silent=True):\n",
        "    if age_structure is None:\n",
        "        age_structure = np.ones(mat_cont.shape[0])\n",
        "\n",
        "    age_structure = np.array(age_structure, dtype=float)\n",
        "    #compara número de linhas com colunas\n",
        "    if mat_cont.shape[0] != mat_cont.shape[1]:\n",
        "        raise ValueError(\"mat_cont is not a square matrix\")\n",
        "    #compara número de faixas etárias\n",
        "    if len(age_structure) < mat_cont.shape[0]:\n",
        "        raise ValueError(\"age_structure is smaller than the linear dimension of mat_cont\")\n",
        "\n",
        "    if len(age_structure) > mat_cont.shape[0]:\n",
        "        if silent == False:\n",
        "            print(\"age_structure is bigger than linear size of mat_cont, aggregating the last values in one\")\n",
        "        #agrupa os últimos pesos\n",
        "        age_structure[mat_cont.shape[0]-1] = sum(age_structure[mat_cont.shape[0]-1:])\n",
        "    # matriz quadrada com o número de agrupamentos novos\n",
        "    new_mat_cont = np.zeros((len(aggregate_indices), len(aggregate_indices)))\n",
        "\n",
        "    for a, indices_i in enumerate(aggregate_indices):\n",
        "        for b, indices_j in enumerate(aggregate_indices):\n",
        "            Na = 0\n",
        "            for i in indices_i:\n",
        "                for j in indices_j:\n",
        "                    new_mat_cont[a, b] += age_structure[i] * mat_cont[i, j]\n",
        "                Na += age_structure[i]\n",
        "            new_mat_cont[a, b] /= Na\n",
        "\n",
        "    return new_mat_cont"
      ]
    },
    {
      "cell_type": "code",
      "execution_count": 31,
      "metadata": {
        "id": "QOGeqnz2bOl8",
        "colab": {
          "base_uri": "https://localhost:8080/"
        },
        "outputId": "02badb55-e15b-4804-d51a-c34e52a1ceb3"
      },
      "outputs": [
        {
          "output_type": "stream",
          "name": "stdout",
          "text": [
            "[[10.11867896  3.78033088  2.70913848  0.9511593 ]\n",
            " [ 3.37764235  7.02985209  3.58734798  1.088056  ]\n",
            " [ 2.81234283  4.91393949  4.69436122  1.28141632]\n",
            " [ 1.83111481  2.96900897  2.79544812  1.75528531]]\n"
          ]
        }
      ],
      "source": [
        "# Estrutura etária\n",
        "# Carrega a distribuição etária da população de Manaus em 2020\n",
        "# age_structure = pd.read_csv('sample_data/Age_distribution_2020_Manaus.csv')\n",
        "\n",
        "#Link direto para o arquivo CSV no GitHub (raw)\n",
        "url1 = 'https://raw.githubusercontent.com/emanoelpereira/modelo-endemia/refs/heads/main/DATA/Age_distribution_2020_Manaus.csv'\n",
        "url2 = 'https://raw.githubusercontent.com/emanoelpereira/modelo-endemia/refs/heads/main/DATA/BRA_data.csv'\n",
        "\n",
        "# Carregar o arquivo CSV sem o cabeçalho\n",
        "age_structure = pd.read_csv(url1)\n",
        "mat_cont = pd.read_csv(url2)\n",
        "\n",
        "# Se você quiser um vetor como uma lista (convertendo o DataFrame para uma lista)\n",
        "age_structure = age_structure.values.flatten()  # Isso retorna um array 1D (vetor)\n",
        "\n",
        "# Transformar em matriz (NumPy array)\n",
        "mat_cont = mat_cont.to_numpy()  # Ou mat_cont.values\n",
        "\n",
        "# Define os índices para agregação\n",
        "aggregate_indices = [range(4), range(4, 8), range(8, 12), range(12, 16)]\n",
        "\n",
        "matcontact_Manaus = aggregate_age_matrix(mat_cont, aggregate_indices, age_structure)\n",
        "\n",
        "print (matcontact_Manaus)"
      ]
    }
  ],
  "metadata": {
    "colab": {
      "provenance": []
    },
    "kernelspec": {
      "display_name": "Python 3",
      "name": "python3"
    },
    "language_info": {
      "name": "python"
    }
  },
  "nbformat": 4,
  "nbformat_minor": 0
}