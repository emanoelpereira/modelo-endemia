{
  "cells": [
    {
      "cell_type": "code",
      "execution_count": 27,
      "metadata": {
        "id": "tCar6AgbbSIg"
      },
      "outputs": [],
      "source": [
        "import numpy as np\n",
        "import pandas as pd\n",
        "import os\n",
        "import urllib.request\n",
        "import rpy2.robjects as robjects"
      ]
    },
    {
      "cell_type": "code",
      "execution_count": 28,
      "metadata": {
        "id": "KaqGatpRDBoT"
      },
      "outputs": [],
      "source": [
        "# mat_cont: matriz quadrada (n x n) que será reagrupada\n",
        "# aggregate_indices: lista de listas, cada sublista contém os índices das idades a serem agregadas.\n",
        "  # Exemplo: [[0, 1], [2, 3]] agrupa as faixas etárias 0 e 1 em um único grupo e as faixas 2 e 3 em outro.\n",
        "# age_structure (opcional): vetor que especifica a estrutura etária (tamanho relativo de cada grupo etário)\n",
        "  #Por padrão, assume valores iguais (população uniformemente distribuída).\n",
        "# silent (opcional): valor booleano\n",
        "  # define se mensagens de aviso sobre discrepâncias em age_structure devem ser exibidas.\n",
        "  # True (silencioso).\n",
        "\n",
        "def aggregate_age_matrix(mat_cont, aggregate_indices, age_structure=None, silent=True):\n",
        "    if age_structure is None:\n",
        "        age_structure = np.ones(mat_cont.shape[0])\n",
        "\n",
        "    age_structure = np.array(age_structure, dtype=float)\n",
        "    #compara número de linhas com colunas\n",
        "    if mat_cont.shape[0] != mat_cont.shape[1]:\n",
        "        raise ValueError(\"mat_cont is not a square matrix\")\n",
        "    #compara número de faixas etárias\n",
        "    if len(age_structure) < mat_cont.shape[0]:\n",
        "        raise ValueError(\"age_structure is smaller than the linear dimension of mat_cont\")\n",
        "\n",
        "    if len(age_structure) > mat_cont.shape[0]:\n",
        "        if silent == False:\n",
        "            print(\"age_structure is bigger than linear size of mat_cont, aggregating the last values in one\")\n",
        "        #agrupa os últimos pesos\n",
        "        age_structure[mat_cont.shape[0]-1] = sum(age_structure[mat_cont.shape[0]-1:])\n",
        "    # matriz quadrada com o número de agrupamentos novos\n",
        "    new_mat_cont = np.zeros((len(aggregate_indices), len(aggregate_indices)))\n",
        "\n",
        "    for a, indices_i in enumerate(aggregate_indices):\n",
        "        for b, indices_j in enumerate(aggregate_indices):\n",
        "            Na = 0\n",
        "            for i in indices_i:\n",
        "                for j in indices_j:\n",
        "                    new_mat_cont[a, b] += age_structure[i] * mat_cont[i, j]\n",
        "                Na += age_structure[i]\n",
        "            new_mat_cont[a, b] /= Na\n",
        "\n",
        "    return new_mat_cont"
      ]
    },
    {
      "cell_type": "code",
      "execution_count": 35,
      "metadata": {
        "id": "QOGeqnz2bOl8",
        "colab": {
          "base_uri": "https://localhost:8080/"
        },
        "outputId": "e1193202-7a72-4dd9-e9b7-acda5e3c8347"
      },
      "outputs": [
        {
          "output_type": "stream",
          "name": "stdout",
          "text": [
            "[[10.09341376  3.78360208  2.70759912  0.95224565]\n",
            " [ 3.37886069  7.02569801  3.59282647  1.08961128]\n",
            " [ 2.81253507  4.91383586  4.69053766  1.28269405]\n",
            " [ 1.828981    2.96068755  2.79251301  1.75223559]]\n",
            "[[10.09315342  3.79031963  2.70756252  0.95035418]\n",
            " [ 3.37432519  7.00210521  3.62139505  1.09849406]\n",
            " [ 2.74830937  4.87188234  4.65075677  1.29207998]\n",
            " [ 1.79804471  2.8240231   2.75148234  1.73661594]]\n",
            "[[10.10000523  3.78900106  2.70796952  0.95013553]\n",
            " [ 3.37393827  6.98996762  3.63232702  1.10205869]\n",
            " [ 2.7604727   4.88005716  4.66212996  1.28903444]\n",
            " [ 1.80376629  2.84821539  2.75918256  1.73991773]]\n"
          ]
        }
      ],
      "source": [
        "# Estrutura etária\n",
        "# Carrega a distribuição etária da população de Manaus em 2020\n",
        "# age_structure = pd.read_csv('sample_data/Age_distribution_2020_Manaus.csv')\n",
        "\n",
        "#Link direto para o arquivo CSV no GitHub (raw)\n",
        "url1 = 'https://raw.githubusercontent.com/emanoelpereira/modelo-endemia/refs/heads/main/DATA/Age_distribution_2020_Manaus-130260.csv'\n",
        "url2 = 'https://raw.githubusercontent.com/emanoelpereira/modelo-endemia/refs/heads/main/DATA/Age_distribution_2020_RIODEJANEIRO-330455.csv'\n",
        "url3 = 'https://raw.githubusercontent.com/emanoelpereira/modelo-endemia/refs/heads/main/DATA/Age_distribution_2020_SAOPAULO-355030.csv'\n",
        "url4 = 'https://raw.githubusercontent.com/emanoelpereira/modelo-endemia/refs/heads/main/DATA/BRA_data.csv'\n",
        "\n",
        "# Carregar o arquivo CSV sem o cabeçalho\n",
        "age_structure_Manaus = pd.read_csv(url1, delimiter=\";\")\n",
        "age_structure_RJ = pd.read_csv(url2, delimiter=\";\")\n",
        "age_structure_SP = pd.read_csv(url3, delimiter=\";\")\n",
        "mat_cont = pd.read_csv(url4)\n",
        "\n",
        "# convertendo o DataFrame para uma lista\n",
        "age_structure_Manaus = age_structure_Manaus.values.flatten()  # Retorna um array 1D (vetor)\n",
        "age_structure_RJ = age_structure_RJ.values.flatten()          # Retorna um array 1D (vetor)\n",
        "age_structure_SP = age_structure_SP.values.flatten()          # Retorna um array 1D (vetor)\n",
        "\n",
        "# Transformar em matriz (NumPy array)\n",
        "mat_cont = mat_cont.to_numpy()\n",
        "\n",
        "# Define os índices para agregação\n",
        "aggregate_indices = [range(4), range(4, 8), range(8, 12), range(12, 16)]\n",
        "\n",
        "matcontact_Manaus = aggregate_age_matrix(mat_cont, aggregate_indices, age_structure_Manaus)\n",
        "matcontact_RJ = aggregate_age_matrix(mat_cont, aggregate_indices, age_structure_RJ)\n",
        "matcontact_SP = aggregate_age_matrix(mat_cont, aggregate_indices, age_structure_SP)\n",
        "\n",
        "print (matcontact_Manaus)\n",
        "print (matcontact_RJ)\n",
        "print (matcontact_SP)"
      ]
    },
    {
      "cell_type": "code",
      "source": [],
      "metadata": {
        "id": "ljVjVB4eHqoY"
      },
      "execution_count": null,
      "outputs": []
    }
  ],
  "metadata": {
    "colab": {
      "provenance": []
    },
    "kernelspec": {
      "display_name": "Python 3",
      "name": "python3"
    },
    "language_info": {
      "name": "python"
    }
  },
  "nbformat": 4,
  "nbformat_minor": 0
}