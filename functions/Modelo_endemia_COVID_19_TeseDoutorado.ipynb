{
  "cells": [
    {
      "cell_type": "markdown",
      "source": [
        "\n",
        "\n",
        "\n",
        "\n",
        "# BIBLIOTECAS"
      ],
      "metadata": {
        "id": "5fkmapmmcFrt"
      }
    },
    {
      "cell_type": "code",
      "source": [
        "import os\n",
        "import urllib.request\n",
        "import pandas as pd\n",
        "import numpy as np\n",
        "import plotly.express as px\n",
        "from pickle import PickleBuffer\n",
        "from matplotlib import pyplot as pt\n",
        "from scipy.integrate import odeint\n",
        "from scipy.optimize import fsolve, root, minimize, least_squares\n",
        "from scipy.optimize import curve_fit"
      ],
      "metadata": {
        "id": "R_D1a-sMcGXp"
      },
      "execution_count": 3,
      "outputs": []
    },
    {
      "cell_type": "markdown",
      "source": [
        "## Dados\n",
        "\n",
        "link para dados populacionais: http://tabnet.datasus.gov.br/cgi/deftohtm.exe?ibge/cnv/popsvs2024br.def\n",
        "\n",
        "Age_distribution_2020_130260_Manaus-ibge.csv \\\\\n",
        "Age_distribution_2020_330455_RIODEJANEIRO_ibge.csv \\\\\n",
        "Age_distribution_2020_355030_SAOPAULO_ibge.csv \\\\\n",
        "Age_distribution_2020_UF_SP_ibge.csv \\\\\n",
        "Age_distribution_2020_UF_RJ_ibge.csv \\\\\n",
        "Age_distribution_2020_UF_AM_ibge.csv"
      ],
      "metadata": {
        "id": "t3cOJ7JUN-qf"
      }
    },
    {
      "cell_type": "code",
      "source": [
        "# Link direto para o arquivo CSV no GitHub (raw)\n",
        "# Arquivo sem tratamento, baixado direto do DataSus - Estrutura Etária da Cidade\n",
        "url1 = 'https://raw.githubusercontent.com/emanoelpereira/modelo-endemia/refs/heads/main/DATA/Age_distribution_2020_355030_SAOPAULO_ibge.csv'\n",
        "\n",
        "# Arquivo sem tratamento, baixado direto do DataSus - Estrutura Etária do Estado UF\n",
        "url2 = 'https://raw.githubusercontent.com/emanoelpereira/modelo-endemia/refs/heads/main/DATA/Age_distribution_2020_UF_SP_ibge.csv'\n",
        "\n",
        "# Carregar o arquivo ignorando metadados iniciais\n",
        "# Remover a última linha, que contém a soma total\n",
        "# Remover colunas \"Região\" e \"Total\"\n",
        "# Remover linhas totalmente vazias\n",
        "# convertendo o DataFrame para uma lista\n",
        "df = pd.read_csv(url1, delimiter=\";\", skiprows=4, encoding=\"ISO-8859-1\")\n",
        "df = df[df.iloc[:, 0] != \"Total\"]\n",
        "df = df.drop(columns=[\"Região\", \"Total\"])\n",
        "df = df.dropna(how=\"all\")\n",
        "age_structure = df.values.flatten()  # Retorna um array 1D (vetor)\n",
        "\n",
        "df = pd.read_csv(url2, delimiter=\";\", skiprows=4, encoding=\"ISO-8859-1\")\n",
        "df = df[df.iloc[:, 0] != \"Total\"]\n",
        "df = df.drop(columns=[\"Região\", \"Total\"])\n",
        "df = df.dropna(how=\"all\")\n",
        "age_structure_UF = df.values.flatten()  # Retorna um array 1D (vetor)\n",
        "\n",
        "print(age_structure)"
      ],
      "metadata": {
        "id": "DOxIKVFOVOl6",
        "colab": {
          "base_uri": "https://localhost:8080/"
        },
        "outputId": "4c5f364b-216d-46ef-8648-c94f39df35bb"
      },
      "execution_count": 56,
      "outputs": [
        {
          "output_type": "stream",
          "name": "stdout",
          "text": [
            "[ 742408.  770974.  759315.  827194.  908644.  932557.  967662. 1006959.\n",
            "  938790.  823196.  754738.  682621.  585038.  458943.  337375.  226558.\n",
            "  289556.]\n"
          ]
        }
      ]
    },
    {
      "cell_type": "code",
      "source": [
        "# Novo agrupamento da distribuição etária\n",
        "# Fonte: Data SUS http://tabnet.datasus.gov.br/cgi/deftohtm.exe?ibge/cnv/popsvs2024br.def\n",
        "\n",
        "###############################################################################################\n",
        "################################# Utilizado antes##############################################\n",
        "    #Fonte da População IBGE2023\n",
        "    # Estado de SP / cidade São Paulo\n",
        "#    PopUF        = np.array([10832832, 13556924, 12370914, 7650568])            # População Estado\n",
        "#    PopCit       = np.array([2674093, 3559246, 3195600, 2023060])               # População Cidade\n",
        "#    Prop_PopUF   = PopUF/PopUF.sum()                                            # Distribuição populacional UF\n",
        "#    Prop_PopCit  = PopCit/PopCit.sum()                                          # Distribuição populacional Cidade\n",
        "# valor calculado Prop_PopUF =  [0.24392096 0.30525886 0.27855368 0.17226649]\n",
        "# valor calculado Prop_PopCit = [0.23350447 0.31079692 0.27904299 0.17665562]\n",
        "################################################################################################\n",
        "\n",
        "def reagrupar_faixaetaria(vetor, n_classes):\n",
        "    if n_classes < 1:\n",
        "        raise ValueError(\"O número de classes deve ser pelo menos 1.\")\n",
        "\n",
        "    tamanho_vetor = len(vetor)\n",
        "    classes_agrupadas = tamanho_vetor // (n_classes)\n",
        "#    print(classes_agrupadas)\n",
        "    novo_vetor = []\n",
        "    inicio = 0\n",
        "\n",
        "    for i in range(n_classes-1):\n",
        "        novo_vetor.append(sum(vetor[inicio:inicio + classes_agrupadas]))\n",
        "        inicio += classes_agrupadas\n",
        "\n",
        "    novo_vetor.append(sum(vetor[inicio:]))  # Última classe com os valores restantes\n",
        "    return np.array(novo_vetor)\n",
        "\n",
        "n_classes = 4\n",
        "\n",
        "PopCit = reagrupar_faixaetaria(age_structure, n_classes)\n",
        "PopUF =  reagrupar_faixaetaria(age_structure_UF, n_classes)\n",
        "\n",
        "Prop_PopUF   = PopUF/PopUF.sum()   # Proporção da Distribuição populacional UF\n",
        "Prop_PopCit  = PopCit/PopCit.sum() # Proporção da Distribuição populacional Cidade\n",
        "\n",
        "print(PopCit)\n",
        "print(PopUF)\n",
        "print(Prop_PopUF)\n",
        "print(Prop_PopCit)"
      ],
      "metadata": {
        "colab": {
          "base_uri": "https://localhost:8080/"
        },
        "id": "lAWDK3cSqERK",
        "outputId": "0458a44c-4d7e-4880-d113-0c504d63dff1"
      },
      "execution_count": 54,
      "outputs": [
        {
          "output_type": "stream",
          "name": "stdout",
          "text": [
            "[3099891. 3815822. 3199345. 1897470.]\n",
            "[12197363. 14215964. 12104160.  7005704.]\n",
            "[0.26793735 0.3122796  0.26588997 0.15389308]\n",
            "[0.25805484 0.31765354 0.26633403 0.15795759]\n"
          ]
        }
      ]
    },
    {
      "cell_type": "code",
      "source": [
        "    #Fonte\n",
        "    vac_UF = np.array([5121581, 13763379, 12133025, 7310940])                   # Vacinados Estado\n",
        "    prop_vac = np.amin(np.c_[vac_UF/PopUF, np.ones_like(vac_UF)], axis=1)       # Proporção VACINADOS ESTADO\n",
        "    prop_nvac = 1 - prop_vac                                                    # Proporção não VACINADOS ESTADO\n",
        "    Nwsp_i = (prop_vac) * PopCit                                                # Estimativa VACINADOS Cidade\n",
        "    Nusp_i = (1 - prop_vac) * PopCit                                            # Estimativa não VACINADOS Cidade\n",
        "\n",
        "    propinf = 0.8                                                               # Proporção estimada de população já infectada\n",
        "    PopCitn = (1-propinf) * PopCit * (1-prop_vac)\n",
        "    PopCitu = propinf * PopCit * (1-prop_vac)\n",
        "    PopCitv = (1-propinf) * PopCit * (prop_vac)\n",
        "    PopCitw = propinf * PopCit * (prop_vac)\n",
        "\n",
        "    infect0 = 1\n",
        "\n",
        "y0 = np.r_[PopCitn, PopCitu, PopCitv, PopCitw,                 # S (Sn,Su,Sv,Sw)\n",
        "     np.zeros(16),                                             # E\n",
        "     np.zeros(16),                                             # A\n",
        "     np.zeros(16),                                             # I\n",
        "     np.zeros(16),                                             # H\n",
        "     np.zeros(16)]                                             # R\n",
        "\n",
        "y0[0:4] -= 1\n",
        "y0[16:20] = 1 # introduzimos indivíduos infectados nas faixas etárias dos vacinados de En"
      ],
      "metadata": {
        "id": "wAmY7LhLE5iw"
      },
      "execution_count": 51,
      "outputs": []
    },
    {
      "cell_type": "markdown",
      "source": [
        "##Parâmetros:"
      ],
      "metadata": {
        "id": "z9nY0PJrN9KT"
      }
    },
    {
      "cell_type": "markdown",
      "source": [
        "\n",
        "###Matriz de Contato e Beta"
      ],
      "metadata": {
        "id": "b9SqvgMeNxSA"
      }
    },
    {
      "cell_type": "code",
      "source": [
        "def aggregate_age_matrix(mat_cont, aggregate_indices, age_structure=None, silent=True):\n",
        "    if age_structure is None:\n",
        "        age_structure = np.ones(mat_cont.shape[0])\n",
        "\n",
        "    age_structure = np.array(age_structure, dtype=float)\n",
        "    #compara número de linhas com colunas\n",
        "    if mat_cont.shape[0] != mat_cont.shape[1]:\n",
        "        raise ValueError(\"mat_cont is not a square matrix\")\n",
        "    #compara número de faixas etárias\n",
        "    if len(age_structure) < mat_cont.shape[0]:\n",
        "        raise ValueError(\"age_structure is smaller than the linear dimension of mat_cont\")\n",
        "\n",
        "    if len(age_structure) > mat_cont.shape[0]:\n",
        "        if silent == False:\n",
        "            print(\"age_structure is bigger than linear size of mat_cont, aggregating the last values in one\")\n",
        "        #agrupa os últimos pesos\n",
        "        age_structure[mat_cont.shape[0]-1] = sum(age_structure[mat_cont.shape[0]-1:])\n",
        "    # matriz quadrada com o número de agrupamentos novos\n",
        "    new_mat_cont = np.zeros((len(aggregate_indices), len(aggregate_indices)))\n",
        "\n",
        "    for a, indices_i in enumerate(aggregate_indices):\n",
        "        for b, indices_j in enumerate(aggregate_indices):\n",
        "            Na = 0\n",
        "            for i in indices_i:\n",
        "                for j in indices_j:\n",
        "                    new_mat_cont[a, b] += age_structure[i] * mat_cont[i, j]\n",
        "                Na += age_structure[i]\n",
        "            new_mat_cont[a, b] /= Na\n",
        "\n",
        "    return new_mat_cont"
      ],
      "metadata": {
        "id": "8RrGb2s7ursN"
      },
      "execution_count": 58,
      "outputs": []
    },
    {
      "cell_type": "code",
      "source": [
        "# Matriz de Contato do Brasil\n",
        "url3 = 'https://raw.githubusercontent.com/emanoelpereira/modelo-endemia/refs/heads/main/DATA/BRA_data.csv'\n",
        "mat_cont = pd.read_csv(url3)\n",
        "\n",
        "# Transformar em matriz (NumPy array)\n",
        "mat_cont = mat_cont.to_numpy()\n",
        "\n",
        "# Matriz de Contato\n",
        "mat_cont = pd.read_csv(url3)\n",
        "\n",
        "# Transformar em matriz (NumPy array)\n",
        "mat_cont = mat_cont.to_numpy()\n",
        "\n",
        "# Define os índices para agregação\n",
        "aggregate_indices = [range(4), range(4, 8), range(8, 12), range(12, 16)]\n",
        "\n",
        "Matrix_Contact = aggregate_age_matrix(mat_cont, aggregate_indices, age_structure)\n",
        "\n",
        "# Exibir o resultado\n",
        "print(age_structure)\n",
        "print (matcontact)\n",
        "\n",
        "##################################################################################\n",
        "###################Valor anterior\n",
        "# Matrix_Contact = np.array([[12.16225114,  3.5903678,   2.56136575,  0.57682922],\n",
        "#                            [ 3.26339927,  8.10131607,  4.24930738,  0.6747869 ],\n",
        "#                            [ 3.14804123,  4.9774246,   5.06808749,  0.79723409],\n",
        "#                            [ 2.36576344,  2.19144427,  2.07597498,  1.1998408 ]])\n",
        "################################################################################\n",
        "\n",
        "################################################################################\n",
        "#Beta\n",
        "r=10\n",
        "B0=r*.01156292\n",
        "################################################################################\n",
        "\n",
        "Contact=np.r_[Matrix_Contact]\n",
        "Contact_2 = np.r_[Contact,Contact,Contact,Contact]\n",
        "MContact = np.r_['-1',Contact_2,Contact_2,Contact_2,Contact_2]"
      ],
      "metadata": {
        "id": "cqaVADPPGP8w",
        "colab": {
          "base_uri": "https://localhost:8080/"
        },
        "outputId": "6aa94fad-1f3d-4493-8008-243400a75993"
      },
      "execution_count": 57,
      "outputs": [
        {
          "output_type": "stream",
          "name": "stdout",
          "text": [
            "[ 742408.  770974.  759315.  827194.  908644.  932557.  967662. 1006959.\n",
            "  938790.  823196.  754738.  682621.  585038.  458943.  337375.  226558.\n",
            "  289556.]\n",
            "[[10.10000523  3.78900106  2.70796952  0.95013553]\n",
            " [ 3.37393827  6.98996762  3.63232702  1.10205869]\n",
            " [ 2.7604727   4.88005716  4.66212996  1.28903444]\n",
            " [ 1.80376629  2.84821539  2.75918256  1.73991773]]\n"
          ]
        }
      ]
    },
    {
      "cell_type": "markdown",
      "source": [
        "### Proporções:  $\\mu_i, \\sigma_i,\\alpha_i$\n",
        "* hospitalizados que morrem: $\\mu_i$\n",
        "* infectados que são hospitalizados: $\\sigma_i$\n",
        "* infectados assintomáticos: $\\alpha_i$"
      ],
      "metadata": {
        "id": "cMDbTfttXari"
      }
    },
    {
      "cell_type": "code",
      "source": [
        "#Capítulo 4 Tese Leo\n",
        "################################################################################\n",
        "# Proporção dos hospitalizados que morrem\n",
        "mu_0, mu_1, mu_2, mu_3 = 0.091, 0.144, 0.243, 0.473\n",
        "\n",
        "# Proporção dos infectados que são hospitalizados\n",
        "sigma_0, sigma_1, sigma_2, sigma_3 = 0.001, 0.008, 0.021, 0.101\n",
        "\n",
        "# Proporção dos infectados assintomáticos\n",
        "alpha_0, alpha_1, alpha_2, alpha_3 = 0.695, 0.440, 0.440, 0.310\n",
        "\n",
        "# Sigma, Alpha dependem da faixa etária\n",
        "Sigma = np.array([sigma_0, sigma_1, sigma_2, sigma_3])\n",
        "Alpha = np.r_[alpha_0, alpha_1, alpha_2, alpha_3]"
      ],
      "metadata": {
        "id": "WLXpONhu7qxZ"
      },
      "execution_count": null,
      "outputs": []
    },
    {
      "cell_type": "markdown",
      "source": [
        "### Taxas: $\\nu_i$,$\\gamma$ e $\\omega$\n",
        "* recuperação (depende da faixa etária): $\\nu_i$\n",
        "* desenvovimento dos sintomas: $\\gamma$\n",
        "* perda de imunidade: $\\omega$"
      ],
      "metadata": {
        "id": "vQ48T6jNDRx_"
      }
    },
    {
      "cell_type": "code",
      "source": [
        "#Capítulo 4 Tese Leo\n",
        "################################################################################\n",
        "# Taxa de recuperação (depende da faixa etária)\n",
        "# gamma: taxa do desenvovimento dos sintomas,\n",
        "# omega: taxa de perda de imunidade\n",
        "nu_0, nu_1, nu_2, nu_3 = 1/9.59, 1/9.217,1/10.941, 1/12.534\n",
        "Nu                     = np.array([nu_0, nu_1, nu_2, nu_3])\n",
        "gamma, omega           = 1/5.8, 1/60\n",
        "################################################################################"
      ],
      "metadata": {
        "id": "fcNnehbxFcCe"
      },
      "execution_count": null,
      "outputs": []
    },
    {
      "cell_type": "markdown",
      "source": [
        "### Infectividade relativa e redução devido a sintomas e hospitalização: $\\rho, \\tau, \\eta$\n",
        "* Infectividade relativa: $\\rho$\n",
        "* Redução da exposição devido a sintomas: $\\tau$\n",
        "* Redução da exposição devido a hospitalização: $\\eta$"
      ],
      "metadata": {
        "id": "bPMHFFdg9rv5"
      }
    },
    {
      "cell_type": "code",
      "source": [
        "#Capítulo 4 Tese Leo\n",
        "################################################################################\n",
        "# ro: infectividade relativa de individuos pré-sintomáticos,\n",
        "# tau: redução da exposição devido a sintomas,\n",
        "# eta: redução de exposição devido a hospitalização,\n",
        "ro, tau, eta = 0.5, 0.5, 0.5\n",
        "################################################################################"
      ],
      "metadata": {
        "id": "2XpBOQa8EjeG"
      },
      "execution_count": null,
      "outputs": []
    },
    {
      "cell_type": "markdown",
      "source": [
        "###Eficácia e Proteção:\n",
        "\n",
        "*   $E_{\\beta}, E_{\\sigma}, E_{IH}$\n",
        "*   $\\varepsilon_{\\beta}, \\varepsilon_{\\sigma}, \\varepsilon_{\\alpha}$\n",
        "\n"
      ],
      "metadata": {
        "id": "7oUl3nENGCzV"
      }
    },
    {
      "cell_type": "code",
      "source": [
        "################################################################################\n",
        "# Eficácia dependem da classe imunológica\n",
        "# Valores provisórios\n",
        "E_Bn,  E_Bu,  E_Bv,  E_Bw  = 0, 0.599, 0.599, 0.599  # Efficacy (observed) against infectious contact 0, 0.499, 0.599, 0.699\n",
        "E_IHn, E_IHu, E_IHv, E_IHw = 0, 0.659, 0.659, 0.659  # Efficacy against clinical symptoms 0, 0.549, 0.659, 0.859\n",
        "E_Sn,  E_Su,  E_Sv,  E_Sw  = 0, 0.759, 0.759, 0.759  # Efficacy against hospitaization of infected individual 0, 0.599, 0.699, 0.89\n",
        "\n",
        "E_B  = np.array([E_Bn,E_Bu,E_Bv,E_Bw])\n",
        "E_S  = np.r_[E_Sn,E_Su,E_Sv,E_Sw]\n",
        "E_IH = np.r_[E_IHn,E_IHu,E_IHv,E_IHw]\n",
        "################################################################################\n",
        "\n",
        "Epsilon_Bj = np.array([1-E_Bn,1-E_Bu,1-E_Bv,1-E_Bw])          #Epsilon_Bn,Epsilon_Bu,Epsilon_Bv,Epsilon_Bw\n",
        "Epsilon_Sj = np.array([(1-E_Sn)/(1-E_Bn), (1-E_Su)/(1-E_Bu),  #Epsilon_sigma\n",
        "                     (1-E_Sv)/(1-E_Bv),(1-E_Sw)/(1-E_Bw)])    #Epsilon_Sn,Epsilon_Su,Epsilon_Sv,Epsilon_Sw\n",
        "\n",
        "Epsilon_A = np.array(np.zeros(16))                                #Epsilon_alpha\n",
        "Epsilon_B = np.array(np.zeros(16))                                #Epsilon_beta\n",
        "Epsilon_S = np.array(np.zeros(16))                                #Epsilon_sigma\n",
        "\n",
        "for i in range(4):\n",
        "  Epsilon_A[i]    +=  (((1-E_IH[0])*(Sigma[i]+(1-Sigma[i])*(1-Alpha[i]))-\n",
        "  (1-E_S[0])*Sigma[i])/(Epsilon_Bj[0]*(1-Epsilon_Sj[0]*Sigma[i])*(1-Alpha[i]) ))\n",
        "  Epsilon_A[4+i]  +=  (((1-E_IH[1])*(Sigma[i]+(1-Sigma[i])*(1-Alpha[i]))-\n",
        "  (1-E_S[1])*Sigma[i])/(Epsilon_Bj[1]*(1-Epsilon_Sj[1]*Sigma[i])*(1-Alpha[i]) ))\n",
        "  Epsilon_A[8+i]  +=  (((1-E_IH[2])*(Sigma[i]+(1-Sigma[i])*(1-Alpha[i]))-\n",
        "  (1-E_S[2])*Sigma[i])/(Epsilon_Bj[2]*(1-Epsilon_Sj[2]*Sigma[i])*(1-Alpha[i]) ))\n",
        "  Epsilon_A[12+i] +=  (((1-E_IH[3])*(Sigma[i]+(1-Sigma[i])*(1-Alpha[i]))-\n",
        "  (1-E_S[3])*Sigma[i])/(Epsilon_Bj[3]*(1-Epsilon_Sj[3]*Sigma[i])*(1-Alpha[i]) ))\n",
        "  Epsilon_B[i]    += Epsilon_Bj[0]\n",
        "  Epsilon_B[4+i]  += Epsilon_Bj[1]\n",
        "  Epsilon_B[8+i]  += Epsilon_Bj[2]\n",
        "  Epsilon_B[12+i] += Epsilon_Bj[3]\n",
        "  Epsilon_S[i]    += Epsilon_Sj[0]\n",
        "  Epsilon_S[4+i]  += Epsilon_Sj[1]\n",
        "  Epsilon_S[8+i]  += Epsilon_Sj[2]\n",
        "  Epsilon_S[12+i] += Epsilon_Sj[3]\n",
        "\n",
        "  print(Epsilon_B)"
      ],
      "metadata": {
        "id": "400oJhYNudlC",
        "colab": {
          "base_uri": "https://localhost:8080/"
        },
        "outputId": "b15ef6e1-64ec-4c1c-8920-c4f3e37716c5"
      },
      "execution_count": null,
      "outputs": [
        {
          "output_type": "stream",
          "name": "stdout",
          "text": [
            "[1.    0.    0.    0.    0.401 0.    0.    0.    0.401 0.    0.    0.\n",
            " 0.401 0.    0.    0.   ]\n",
            "[1.    1.    0.    0.    0.401 0.401 0.    0.    0.401 0.401 0.    0.\n",
            " 0.401 0.401 0.    0.   ]\n",
            "[1.    1.    1.    0.    0.401 0.401 0.401 0.    0.401 0.401 0.401 0.\n",
            " 0.401 0.401 0.401 0.   ]\n",
            "[1.    1.    1.    1.    0.401 0.401 0.401 0.401 0.401 0.401 0.401 0.401\n",
            " 0.401 0.401 0.401 0.401]\n"
          ]
        }
      ]
    },
    {
      "cell_type": "markdown",
      "source": [
        "### Efeito da eficácia da vacina: $\\sigma_{\\epsilon}, \\alpha_{\\epsilon}, \\beta_{\\epsilon}, \\delta_A, \\delta_I, \\delta_H$"
      ],
      "metadata": {
        "id": "XL0L7BNnYng5"
      }
    },
    {
      "cell_type": "code",
      "source": [
        "# Efeito da eficácia da vacina\n",
        "sigma_Epsilon, alpha_Epsilon = np.zeros_like(Epsilon_S), np.zeros_like(Epsilon_A)\n",
        "beta_Epsilon = B0*Epsilon_B\n",
        "\n",
        "for i in range(4):\n",
        "  sigma_Epsilon[i::4] = Epsilon_S[i::4]*Sigma[i]\n",
        "  alpha_Epsilon[i::4] = Epsilon_A[i::4]*Alpha[i]\n",
        "\n",
        "DeltaA = (1-sigma_Epsilon) * alpha_Epsilon\n",
        "DeltaI = (1-sigma_Epsilon) * (1-alpha_Epsilon)\n",
        "DeltaH = sigma_Epsilon\n",
        "\n",
        "print(DeltaA)"
      ],
      "metadata": {
        "id": "q0J0Y8dCYqVr",
        "colab": {
          "base_uri": "https://localhost:8080/"
        },
        "outputId": "b037d516-5908-4307-be16-87bb4722d681"
      },
      "execution_count": null,
      "outputs": [
        {
          "output_type": "stream",
          "name": "stdout",
          "text": [
            "[0.694305   0.43648    0.43076    0.27869    0.59098722 0.37273878\n",
            " 0.37042185 0.24830666 0.59098722 0.37273878 0.37042185 0.24830666\n",
            " 0.59098722 0.37273878 0.37042185 0.24830666]\n"
          ]
        }
      ]
    },
    {
      "cell_type": "markdown",
      "source": [
        "#SISTEMA DE EDOS COM EFICÁCIAS"
      ],
      "metadata": {
        "id": "Pi6jzyysMGZ6"
      }
    },
    {
      "cell_type": "code",
      "execution_count": null,
      "metadata": {
        "id": "7s7Zz-o4nR9r"
      },
      "outputs": [],
      "source": [
        "t = np.arange(0, 365*1, 1)\n",
        "\n",
        "def SEAIHR_endemia(y, t, MContact, B0, Epsilon_A, Epsilon_B, Epsilon_S, ro, tau,\n",
        "                   eta, gamma, Sigma, Alpha, Nu, omega):\n",
        "\n",
        "    Ni =  np.zeros(4) # Criando um vetor para armazenar as somas das faixas etárias\n",
        "    # Somando as entradas correspondentes de cada faixa etária\n",
        "    for i in range(4):\n",
        "      Ni[i] = np.sum(y[i::4])  # Vetor faixas etárias\n",
        "    N = np.tile(Ni, 4)         # concatena Ni 4 vezes\n",
        "    n = 4                      # n de faixas etárias\n",
        "\n",
        "    S, E, A, I, H, R = np.split(y,6)\n",
        "    BETA = ((B0*Epsilon_B).reshape(16,1))*MContact\n",
        "    dS   = - S * np.dot(BETA, (ro*E+A+(1-tau)*I+(1-eta)*H)/N)               #dS/dt\n",
        "    dE   =   S * np.dot(BETA, (ro*E+A+(1-tau)*I+(1-eta)*H)/N) - gamma * E         #dE/dt\n",
        "    dA, dI, dH, dR = np.zeros_like(A), np.zeros_like(I), np.zeros_like(H), np.zeros_like(R)\n",
        "    sigma_Epsilon, alpha_Epsilon = np.zeros_like(H), np.zeros_like(A)\n",
        "    for i in range(n):\n",
        "      sigma_Epsilon[i::n] = Epsilon_S[i::n] * Sigma[i]\n",
        "      alpha_Epsilon[i::n] = Epsilon_A[i::n] * Alpha[i]\n",
        "      dA[i::n]            =  - Nu[i] * A[i::n]                   #dA/dt\n",
        "      dI[i::n]            =  - Nu[i] * I[i::n]                   #dI/dt\n",
        "      dH[i::n]            =  - Nu[i] * H[i::n]                   #dH/dt\n",
        "      dR[i::n] = Nu[i] * (A[i::n] + I[i::n] + H[i::n]) - omega * R[i::n] #dR/dt\n",
        "\n",
        "    dA +=  (1-sigma_Epsilon) * alpha_Epsilon     * gamma * E\n",
        "    dI +=  (1-sigma_Epsilon) * (1-alpha_Epsilon) * gamma * E\n",
        "    dH +=   sigma_Epsilon                        * gamma * E\n",
        "\n",
        "    dS[n:2*n]   +=  omega   * (R[n:2*n]   + R[0:n])\n",
        "    dS[3*n:4*n] +=  omega   * (R[2*n:3*n] + R[3*n:4*n])\n",
        "    return np.r_[dS, dE, dA, dI, dH, dR]\n",
        "\n",
        "y = odeint(SEAIHR_endemia, y0, t, args=(MContact, B0, Epsilon_A, Epsilon_B,\n",
        "                                        Epsilon_S, ro, tau, eta, gamma, Sigma,\n",
        "                                        Alpha, Nu, omega))"
      ]
    },
    {
      "cell_type": "markdown",
      "source": [
        "# AJUSTE DO MODELO"
      ],
      "metadata": {
        "id": "3OpFZesIQ7hM"
      }
    },
    {
      "cell_type": "markdown",
      "source": [
        "## Sistemas de equações algébricas:\n",
        "\n",
        "\\begin{eqnarray*}\n",
        "\\theta_{2,u}^l&=&\\frac{\\rho}{\\gamma} +\\frac{ \\delta_{u,A}^l + (1-\\tau) \\cdot \\delta_{u,I}^l  + (1-\\eta)  \\cdot \\delta_{u,H}^l}{\\nu^l} \\\\\n",
        "\\theta_{2,w}^l&=&\\frac{\\rho}{\\gamma} +  \\frac{ \\delta_{w,A}^l + (1-\\tau)\\cdot  \\delta_{w,I}^l  +  ( 1-\\eta ) \\cdot \\delta_{w,H}^l  }{\\nu^l} \\\\\n",
        "{\\lambda^i}^*&=&  \\beta \\sum\\limits_{l=1}^{4}  \\frac{\\mathbb{C}_{i,l}}{N^l} \\cdot {\\lambda^l}^* \\cdot \\Bigg(  \\varepsilon_{\\beta,u} \\cdot \\theta_{2,u}^l \\cdot {S_u^l}^* +  \\varepsilon_{\\beta,w} \\cdot \\theta_{2,w}^l\\cdot {S_w^l}^*\\Bigg)\\\\\n",
        "\\end{eqnarray*}\n",
        "\n",
        "\n",
        "($\\lambda^i$)\n",
        "\n",
        "\\begin{eqnarray*}\n",
        "\\theta_{2,u}^l&=&\\frac{\\rho}{\\gamma} +\\frac{ \\delta_{u,A}^l + (1-\\tau) \\cdot \\delta_{u,I}^l  + (1-\\eta)  \\cdot \\delta_{u,H}^l}{\\nu^l} \\\\\n",
        "\\theta_{2,w}^l&=&\\frac{\\rho}{\\gamma} +  \\frac{ \\delta_{w,A}^l + (1-\\tau)\\cdot  \\delta_{w,I}^l  +  ( 1-\\eta ) \\cdot \\delta_{w,H}^l  }{\\nu^l} \\\\\n",
        "\\end{eqnarray*}\n",
        "\n",
        "\\begin{equation}\n",
        "{\\lambda^i}^* = \\frac{{\\lambda^i_j}^*}{\\epsilon_\\beta} = \\beta \\sum\\limits_{l=1}^{4}  \\frac{\\mathbb{C}_{i,l}\\cdot {\\lambda^l}^*}{N^l}  \\cdot \\Bigg(   \\frac{\\varepsilon_{\\beta,u}  \\cdot {N^l_u}^* \\cdot \\theta_{2,u}^l }{1+ \\varepsilon_{\\beta,u} \\cdot {\\lambda^l}^*\\cdot\\theta_1^l } +   \\frac{\\varepsilon_{\\beta,w} \\cdot{N^l_w}^* \\cdot \\theta_{2,w}^l}{1+ \\varepsilon_{\\beta,w} \\cdot {\\lambda^l}^*\\cdot\\theta_1^l } \\Bigg)\n",
        "\\end{equation}"
      ],
      "metadata": {
        "id": "v5IM9aAUtlGz"
      }
    },
    {
      "cell_type": "markdown",
      "source": [
        "\n",
        "## Ajuste de $\\beta$ e $\\omega$"
      ],
      "metadata": {
        "id": "HmeCeE4pXZDS"
      }
    },
    {
      "cell_type": "markdown",
      "source": [
        "#AMBIENTE DE TESTES"
      ],
      "metadata": {
        "id": "tvEjrsSe2xzq"
      }
    },
    {
      "cell_type": "code",
      "source": [
        "B0, omega = 1.2, 1/60\n",
        "\n",
        "(B0_aj, omega_aj) = (B0, omega)                       # variáveis do sistema\n",
        "\n",
        "PSPUFIBGE2023      = np.array([10832832, 13556924, 12370914, 7650568])            #População Estado de SP\n",
        "PSPIBGE2023        = np.array([2674093, 3559246, 3195600, 2023060])               #População Cidade de SP\n",
        "vac_UFsp           = np.array([5121581, 13763379, 12133025, 7310940])             #Vacinados UF SP\n",
        "prop_vac = np.amin(np.c_[vac_UFsp/PSPUFIBGE2023, np.ones_like(vac_UFsp)], axis=1) #Proporção VACINADOS ESTADO DE SP\n",
        "prop_nvac = 1 - prop_vac                                                          #Proporção não VACINADOS ESTADO DE SP\n",
        "Nwsp_i = (prop_vac)  * PSPIBGE2023                                                #Estimativa VACINADOS Cidade DE São Paulo\n",
        "Nusp_i = (prop_nvac) * PSPIBGE2023                                                #Estimativa não VACINADOS Cidade DE São Paulo\n",
        "PropNusp_i = Nusp_i/PSPIBGE2023                                                   #Nu^i/N^i\n",
        "PropNwsp_i = Nwsp_i/PSPIBGE2023                                                   #Nu^i/N^i\n",
        "\n",
        "Matrix_Contact = np.array([[12.16225114,  3.5903678,   2.56136575,  0.57682922],\n",
        "                            [ 3.26339927,  8.10131607,  4.24930738,  0.6747869 ],\n",
        "                            [ 3.14804123,  4.9774246,   5.06808749,  0.79723409],\n",
        "                            [ 2.36576344,  2.19144427,  2.07597498,  1.1998408 ]])\n",
        "mu_0, mu_1, mu_2, mu_3 =0.091, 0.144, 0.243, 0.473\n",
        "sigma_0, sigma_1, sigma_2, sigma_3 =0.001, 0.008, 0.021, 0.101\n",
        "alpha_0, alpha_1, alpha_2, alpha_3 =0.695, 0.440, 0.440, 0.310\n",
        "nu_0, nu_1, nu_2, nu_3 =1/9.59, 1/9.217,1/10.941, 1/12.534\n",
        "ro, tau, eta, gamma = 0.5, 0.5, 0.5, 1/5.8\n",
        "\n",
        "Sigma = np.array([sigma_0, sigma_1, sigma_2, sigma_3])\n",
        "Alpha = np.r_[alpha_0, alpha_1, alpha_2, alpha_3]\n",
        "Nu = np.array([nu_0, nu_1, nu_2, nu_3])\n",
        "\n",
        "E_Bn,  E_Bu,  E_Bv,  E_Bw  = 0, 0.599, 0.599, 0.599  # Efficacy (observed) against infectious contact 0, 0.499, 0.599, 0.699\n",
        "E_IHn, E_IHu, E_IHv, E_IHw = 0, 0.659, 0.659, 0.659  # Efficacy against clinical symptoms 0, 0.549, 0.659, 0.859\n",
        "E_Sn,  E_Su,  E_Sv,  E_Sw  = 0, 0.759, 0.759, 0.759  # Efficacy against hospitaization of infected individual 0, 0.599, 0.699, 0.89\n",
        "\n",
        "E_B  = np.array([E_Bn,E_Bu,E_Bv,E_Bw])\n",
        "E_IH = np.r_[E_IHn,E_IHu,E_IHv,E_IHw]\n",
        "E_S  = np.r_[E_Sn,E_Su,E_Sv,E_Sw]\n",
        "\n",
        "Epsilon_Bj = np.array([1-E_Bn,1-E_Bu,1-E_Bv,1-E_Bw])            #Epsilon_Bn,Epsilon_Bu,Epsilon_Bv,Epsilon_Bw\n",
        "Epsilon_Sj = np.array([(1-E_Sn)/(1-E_Bn), (1-E_Su)/(1-E_Bu),    #Epsilon_sigma\n",
        "                        (1-E_Sv)/(1-E_Bv),(1-E_Sw)/(1-E_Bw)])    #Epsilon_Sn,Epsilon_Su,Epsilon_Sv,Epsilon_Sw\n",
        "Epsilon_Aj = (((1-E_IH)*(Sigma+(1-Sigma)*(1-Alpha))-(1-E_S)*Sigma)/\n",
        "              ((Epsilon_Bj)*(1-Epsilon_Sj*Sigma)*(1-Alpha)))\n",
        "\n",
        "#sigma_Epsilon, alpha_Epsilon = Epsilon_Sj*Sigma, Epsilon_Aj*Alpha\n",
        "sigma_Epsilon = np.outer(Sigma, Epsilon_Sj)\n",
        "alpha_Epsilon = np.outer(Alpha, Epsilon_Aj)\n",
        "\n",
        "DeltaA = (1-sigma_Epsilon) * alpha_Epsilon\n",
        "DeltaI = (1-sigma_Epsilon) * (1-alpha_Epsilon)\n",
        "DeltaH = sigma_Epsilon\n",
        "\n",
        "Tetha2u, Tetha2w = np.zeros(4), np.zeros(4)\n",
        "for i in range(4):\n",
        "    Tetha2u[i] = ro/gamma + (DeltaA[i,1] +(1-tau)*DeltaI[i,1] +(1-eta)*DeltaH[i,1])/Nu[i]\n",
        "    Tetha2w[i] = ro/gamma + (DeltaA[i,3] +(1-tau)*DeltaI[i,3] +(1-eta)*DeltaH[i,3])/Nu[i]"
      ],
      "metadata": {
        "id": "VWH9LVu7DVXA"
      },
      "execution_count": null,
      "outputs": []
    },
    {
      "cell_type": "code",
      "source": [
        "# da forma como está definida, a função sist pega os demais parâmetros de fora?\n",
        "\n",
        "def sist(Lambdai):\n",
        "     return ( B0_aj * np.dot(Matrix_Contact,\n",
        "      Lambdai*( (Epsilon_Bj*[1] * Tetha2u * PropNusp_i)/(1+Epsilon_Bj*[1]*Tetha2u*Lambdai)\n",
        "      + (Epsilon_Bj*[3] * Tetha2w * PropNwsp_i)/(1+Epsilon_Bj*[3]*Tetha2w*Lambdai) )) - Lambdai )\n",
        "\n",
        "sist(np.array([0.51,0.1,0.1, 0.1]))"
      ],
      "metadata": {
        "colab": {
          "base_uri": "https://localhost:8080/"
        },
        "id": "VICiD-hDp3E9",
        "outputId": "1c5a243f-f57d-403d-b18f-65ccc90fa76d"
      },
      "execution_count": null,
      "outputs": [
        {
          "output_type": "execute_result",
          "data": {
            "text/plain": [
              "array([16.81500107, 11.75336838, 10.28004732,  5.97526313])"
            ]
          },
          "metadata": {},
          "execution_count": 38
        }
      ]
    },
    {
      "cell_type": "markdown",
      "source": [
        "o sistema é definido pela função sist, agora usamos fsolve pra achar o zero dessa função"
      ],
      "metadata": {
        "id": "dBgqPiDTvIYK"
      }
    },
    {
      "cell_type": "code",
      "source": [
        "lamb = fsolve(sist, np.ones(4) * 1)\n",
        "print(lamb)\n",
        "print(sist(lamb))"
      ],
      "metadata": {
        "id": "kOWqANErvatu",
        "colab": {
          "base_uri": "https://localhost:8080/"
        },
        "outputId": "5b4fbc1b-7816-45df-f2c2-b17c126aac55"
      },
      "execution_count": null,
      "outputs": [
        {
          "output_type": "stream",
          "name": "stdout",
          "text": [
            "[22.58588373 19.45811408 16.71198837  9.35419701]\n",
            "[7.51818163e-10 8.68347172e-10 1.48823176e-11 1.23115740e-10]\n"
          ]
        }
      ]
    },
    {
      "cell_type": "markdown",
      "source": [
        "código de fitting com dado de H:"
      ],
      "metadata": {
        "id": "zqs_jCAdyfbr"
      }
    },
    {
      "cell_type": "code",
      "source": [
        "B0, omega = 0.12, 1/60\n",
        "Hobs = 79\n",
        "def fit_function(B0_aj, omega_aj):\n",
        "    #(B0_aj, omega_aj) = variaveis                       # variáveis do sistema\n",
        "\n",
        "    PSPUFIBGE2023      = np.array([10832832, 13556924, 12370914, 7650568])            #População Estado de SP\n",
        "    PSPIBGE2023        = np.array([2674093, 3559246, 3195600, 2023060])               #População Cidade de SP\n",
        "    vac_UFsp           = np.array([5121581, 13763379, 12133025, 7310940])             #Vacinados UF SP\n",
        "    prop_vac = np.amin(np.c_[vac_UFsp/PSPUFIBGE2023, np.ones_like(vac_UFsp)], axis=1) #Proporção VACINADOS ESTADO DE SP\n",
        "    prop_nvac = 1 - prop_vac                                                          #Proporção não VACINADOS ESTADO DE SP\n",
        "    Nwsp_i = (prop_vac)  * PSPIBGE2023                                                #Estimativa VACINADOS Cidade DE São Paulo\n",
        "    Nusp_i = (prop_nvac) * PSPIBGE2023                                                #Estimativa não VACINADOS Cidade DE São Paulo\n",
        "    PropNusp_i = Nusp_i/PSPIBGE2023                                                   #N_u^i/N^i\n",
        "    PropNwsp_i = Nwsp_i/PSPIBGE2023\n",
        "\n",
        "    Matrix_Contact = np.array([[12.16225114,  3.5903678,   2.56136575,  0.57682922],\n",
        "                                [ 3.26339927,  8.10131607,  4.24930738,  0.6747869 ],\n",
        "                                [ 3.14804123,  4.9774246,   5.06808749,  0.79723409],\n",
        "                                [ 2.36576344,  2.19144427,  2.07597498,  1.1998408 ]])\n",
        "    mu_0, mu_1, mu_2, mu_3 =0.091, 0.144, 0.243, 0.473\n",
        "    sigma_0, sigma_1, sigma_2, sigma_3 =0.001, 0.008, 0.021, 0.101\n",
        "    alpha_0, alpha_1, alpha_2, alpha_3 =0.695, 0.440, 0.440, 0.310\n",
        "    nu_0, nu_1, nu_2, nu_3 =1/9.59, 1/9.217,1/10.941, 1/12.534\n",
        "    ro, tau, eta, gamma = 0.5, 0.5, 0.5, 1/5.8\n",
        "\n",
        "    Sigma = np.array([sigma_0, sigma_1, sigma_2, sigma_3])\n",
        "    Alpha = np.r_[alpha_0, alpha_1, alpha_2, alpha_3]\n",
        "    Nu = np.array([nu_0, nu_1, nu_2, nu_3])\n",
        "\n",
        "    E_Bn,  E_Bu,  E_Bv,  E_Bw  = 0, 0.599, 0.599, 0.599  # Efficacy (observed) against infectious contact 0, 0.499, 0.599, 0.699\n",
        "    E_IHn, E_IHu, E_IHv, E_IHw = 0, 0.659, 0.659, 0.659  # Efficacy against clinical symptoms 0, 0.549, 0.659, 0.859\n",
        "    E_Sn,  E_Su,  E_Sv,  E_Sw  = 0, 0.759, 0.759, 0.759  # Efficacy against hospitaization of infected individual 0, 0.599, 0.699, 0.89\n",
        "\n",
        "    E_B  = np.array([E_Bn,E_Bu,E_Bv,E_Bw])\n",
        "    E_IH = np.r_[E_IHn,E_IHu,E_IHv,E_IHw]\n",
        "    E_S  = np.r_[E_Sn,E_Su,E_Sv,E_Sw]\n",
        "\n",
        "    Epsilon_Bj = np.array([1-E_Bn,1-E_Bu,1-E_Bv,1-E_Bw])            #Epsilon_Bn,Epsilon_Bu,Epsilon_Bv,Epsilon_Bw\n",
        "    Epsilon_Sj = np.array([(1-E_Sn)/(1-E_Bn), (1-E_Su)/(1-E_Bu),    #Epsilon_sigma\n",
        "                            (1-E_Sv)/(1-E_Bv),(1-E_Sw)/(1-E_Bw)])    #Epsilon_Sn,Epsilon_Su,Epsilon_Sv,Epsilon_Sw\n",
        "    Epsilon_Aj = (((1-E_IH)*(Sigma+(1-Sigma)*(1-Alpha))-(1-E_S)*Sigma)/\n",
        "                  ((Epsilon_Bj)*(1-Epsilon_Sj*Sigma)*(1-Alpha)))\n",
        "\n",
        "    #sigma_Epsilon, alpha_Epsilon = Epsilon_Sj*Sigma, Epsilon_Aj*Alpha\n",
        "    sigma_Epsilon = np.outer(Sigma, Epsilon_Sj)\n",
        "    alpha_Epsilon = np.outer(Alpha, Epsilon_Aj)\n",
        "\n",
        "    DeltaA = (1-sigma_Epsilon) * alpha_Epsilon\n",
        "    DeltaI = (1-sigma_Epsilon) * (1-alpha_Epsilon)\n",
        "    DeltaH = sigma_Epsilon\n",
        "\n",
        "    Tetha2u, Tetha2w = np.zeros(4), np.zeros(4)\n",
        "    for i in range(4):\n",
        "        Tetha2u[i] = ro/gamma + (DeltaA[i,1] +(1-tau)*DeltaI[i,1] +(1-eta)*DeltaH[i,1])/Nu[i]\n",
        "        Tetha2w[i] = ro/gamma + (DeltaA[i,3] +(1-tau)*DeltaI[i,3] +(1-eta)*DeltaH[i,3])/Nu[i]\n",
        "\n",
        "    def sist(Lambdai):\n",
        "        return ( B0_aj * np.dot(Matrix_Contact,\n",
        "          Lambdai*( (Epsilon_Bj*[1] * Tetha2u * PropNusp_i)/(1+Epsilon_Bj*[1]*Tetha2u*Lambdai)\n",
        "          + (Epsilon_Bj*[3] * Tetha2w * PropNwsp_i)/(1+Epsilon_Bj*[3]*Tetha2w*Lambdai) )) - Lambdai )\n",
        "\n",
        "    lamb = fsolve(sist, np.ones(4) * 1)\n",
        "    Theta1 = 1/Nu + 1/omega_aj + 1/gamma\n",
        "\n",
        "    Sucalc = Nusp_i /(1 + lamb * Epsilon_Bj[1] * Theta1)\n",
        "    Swcalc = Nwsp_i /(1 + lamb * Epsilon_Bj[3] * Theta1)\n",
        "\n",
        "    Hucalc = Sucalc * lamb * Epsilon_Bj[1] * DeltaH[:,1] / Nu\n",
        "    Hwcalc = Swcalc * lamb * Epsilon_Bj[3] * DeltaH[:,3] / Nu\n",
        "\n",
        "    Htot = Hucalc.sum() + Hwcalc.sum()\n",
        "\n",
        "    return Htot - Hobs"
      ],
      "metadata": {
        "id": "CDqaaoBd5O00"
      },
      "execution_count": null,
      "outputs": []
    },
    {
      "cell_type": "code",
      "source": [
        "s0 = (0.1,)\n",
        "s = least_squares(fit_function, s0, gtol=None, max_nfev=1000, bounds = [0.001, 1.5], args=(1/60,))"
      ],
      "metadata": {
        "id": "kvOxLz5XwsDd"
      },
      "execution_count": null,
      "outputs": []
    },
    {
      "cell_type": "code",
      "source": [
        "print(s)\n",
        "#print(s.x[0], 1/s.x[1])"
      ],
      "metadata": {
        "id": "Qrj05EM_wtgL",
        "colab": {
          "base_uri": "https://localhost:8080/"
        },
        "outputId": "aa2c09dc-8bde-4ea7-aca1-de47c6d12395"
      },
      "execution_count": null,
      "outputs": [
        {
          "output_type": "stream",
          "name": "stdout",
          "text": [
            "     message: `xtol` termination condition is satisfied.\n",
            "     success: True\n",
            "      status: 3\n",
            "         fun: [ 6.902e-11]\n",
            "           x: [ 3.552e-03]\n",
            "        cost: 2.3820266179468944e-21\n",
            "         jac: [[ 3.532e+06]]\n",
            "        grad: [ 2.438e-04]\n",
            "  optimality: 6.220621022086323e-07\n",
            " active_mask: [0]\n",
            "        nfev: 7\n",
            "        njev: 7\n"
          ]
        }
      ]
    },
    {
      "cell_type": "code",
      "source": [
        "omegas = np.linspace(1/360, 1/30, 40)\n",
        "beta0 = []\n",
        "s0 = 0.1\n",
        "for omega in omegas[::-1]:\n",
        "    s = least_squares(fit_function, s0, gtol=None, bounds = [0.0001, 1.5], args=(omega,))\n",
        "    beta0.append([s.x[0], s.fun[0]])\n",
        "    s0 = s.x[0]\n",
        "beta0 = np.array(beta0)[::-1]"
      ],
      "metadata": {
        "id": "Y_NXqXiQxUzI"
      },
      "execution_count": null,
      "outputs": []
    },
    {
      "cell_type": "code",
      "source": [
        "beta0"
      ],
      "metadata": {
        "id": "hvkk_Dl6zR-U",
        "colab": {
          "base_uri": "https://localhost:8080/"
        },
        "outputId": "44f93de6-21a7-4dd3-965f-d0a8d3b2ee01"
      },
      "execution_count": null,
      "outputs": [
        {
          "output_type": "execute_result",
          "data": {
            "text/plain": [
              "array([[ 3.55212580e-03,  4.18225454e-11],\n",
              "       [ 3.55205349e-03,  1.00612851e-11],\n",
              "       [ 3.55200747e-03,  8.55493454e-12],\n",
              "       [ 3.55197561e-03,  1.43529633e-12],\n",
              "       [ 3.55195224e-03, -1.54898316e-12],\n",
              "       [ 3.55193437e-03, -2.27373675e-13],\n",
              "       [ 3.55192027e-03, -2.01794137e-12],\n",
              "       [ 3.55190884e-03,  7.81597009e-13],\n",
              "       [ 3.55189941e-03, -2.41584530e-13],\n",
              "       [ 3.55189148e-03,  5.82645043e-13],\n",
              "       [ 3.55188473e-03,  1.10844667e-12],\n",
              "       [ 3.55187891e-03,  4.43378667e-12],\n",
              "       [ 3.55187384e-03, -2.28794761e-12],\n",
              "       [ 3.55186938e-03,  1.81898940e-12],\n",
              "       [ 3.55186544e-03, -3.97903932e-13],\n",
              "       [ 3.55186192e-03,  1.40687462e-12],\n",
              "       [ 3.55185876e-03,  7.67386155e-13],\n",
              "       [ 3.55185591e-03, -1.84741111e-13],\n",
              "       [ 3.55185332e-03,  1.13686838e-13],\n",
              "       [ 3.55185097e-03,  5.68434189e-14],\n",
              "       [ 3.55184881e-03,  1.42108547e-12],\n",
              "       [ 3.55184683e-03, -1.47792889e-12],\n",
              "       [ 3.55184501e-03,  1.10844667e-12],\n",
              "       [ 3.55184332e-03,  1.19371180e-12],\n",
              "       [ 3.55184176e-03, -5.30064881e-12],\n",
              "       [ 3.55184031e-03,  1.49213975e-12],\n",
              "       [ 3.55183895e-03, -3.22586402e-12],\n",
              "       [ 3.55183768e-03, -3.09796633e-12],\n",
              "       [ 3.55183650e-03,  2.41584530e-12],\n",
              "       [ 3.55183539e-03, -7.53175300e-13],\n",
              "       [ 3.55183434e-03,  1.08002496e-12],\n",
              "       [ 3.55183335e-03,  5.03064257e-12],\n",
              "       [ 3.55183242e-03, -6.67910172e-13],\n",
              "       [ 3.55183154e-03,  2.18847163e-12],\n",
              "       [ 3.55183071e-03, -2.30215846e-12],\n",
              "       [ 3.55182992e-03,  6.11066753e-13],\n",
              "       [ 3.55182917e-03, -1.52056145e-12],\n",
              "       [ 3.55182846e-03, -2.07478479e-12],\n",
              "       [ 3.55182778e-03,  4.50484094e-12],\n",
              "       [ 3.55182713e-03,  1.30739863e-12]])"
            ]
          },
          "metadata": {},
          "execution_count": 44
        }
      ]
    },
    {
      "cell_type": "code",
      "source": [
        "pt.plot(1/omegas[1:], beta0[1:,0])\n",
        "pt.xlabel(r'$1/\\omega$')\n",
        "pt.ylabel(r'$\\beta_0$')\n",
        "pt.twinx()\n",
        "pt.plot(1/omegas[1:], np.abs(beta0[1:,1]), \":r\")"
      ],
      "metadata": {
        "id": "Z6vJ1vOK7xdp",
        "colab": {
          "base_uri": "https://localhost:8080/",
          "height": 484
        },
        "outputId": "e2eb7c43-9087-4917-d4dd-7f8be541c85a"
      },
      "execution_count": null,
      "outputs": [
        {
          "output_type": "execute_result",
          "data": {
            "text/plain": [
              "[<matplotlib.lines.Line2D at 0x799e4b563160>]"
            ]
          },
          "metadata": {},
          "execution_count": 45
        },
        {
          "output_type": "display_data",
          "data": {
            "text/plain": [
              "<Figure size 640x480 with 2 Axes>"
            ],
            "image/png": "[encoded data removed]"
          },
          "metadata": {}
        }
      ]
    },
    {
      "cell_type": "code",
      "source": [
        "betas = np.linspace(0.00354, 0.00356, 40)\n",
        "res2 = []\n",
        "for beta in betas:\n",
        "  res2.append(fit_function(beta, 1/30))\n",
        "res2 = np.array(res2)"
      ],
      "metadata": {
        "id": "VrZHdSZKI-yg"
      },
      "execution_count": null,
      "outputs": []
    },
    {
      "cell_type": "code",
      "source": [
        "pt.plot(betas, (res))\n",
        "pt.plot(betas, (res2))\n",
        "#pt.yscale('log')\n",
        "#pt.xscale('log')\n",
        "pt.grid()"
      ],
      "metadata": {
        "colab": {
          "base_uri": "https://localhost:8080/",
          "height": 220
        },
        "id": "fpMlXS5JJuCR",
        "outputId": "39276c36-d50f-474b-e429-28cf7f1d4f59"
      },
      "execution_count": null,
      "outputs": [
        {
          "output_type": "error",
          "ename": "NameError",
          "evalue": "name 'res' is not defined",
          "traceback": [
            "\u001b[0;31m---------------------------------------------------------------------------\u001b[0m",
            "\u001b[0;31mNameError\u001b[0m                                 Traceback (most recent call last)",
            "\u001b[0;32m<ipython-input-47-5de430d598bc>\u001b[0m in \u001b[0;36m<cell line: 1>\u001b[0;34m()\u001b[0m\n\u001b[0;32m----> 1\u001b[0;31m \u001b[0mpt\u001b[0m\u001b[0;34m.\u001b[0m\u001b[0mplot\u001b[0m\u001b[0;34m(\u001b[0m\u001b[0mbetas\u001b[0m\u001b[0;34m,\u001b[0m \u001b[0;34m(\u001b[0m\u001b[0mres\u001b[0m\u001b[0;34m)\u001b[0m\u001b[0;34m)\u001b[0m\u001b[0;34m\u001b[0m\u001b[0;34m\u001b[0m\u001b[0m\n\u001b[0m\u001b[1;32m      2\u001b[0m \u001b[0mpt\u001b[0m\u001b[0;34m.\u001b[0m\u001b[0mplot\u001b[0m\u001b[0;34m(\u001b[0m\u001b[0mbetas\u001b[0m\u001b[0;34m,\u001b[0m \u001b[0;34m(\u001b[0m\u001b[0mres2\u001b[0m\u001b[0;34m)\u001b[0m\u001b[0;34m)\u001b[0m\u001b[0;34m\u001b[0m\u001b[0;34m\u001b[0m\u001b[0m\n\u001b[1;32m      3\u001b[0m \u001b[0;31m#pt.yscale('log')\u001b[0m\u001b[0;34m\u001b[0m\u001b[0;34m\u001b[0m\u001b[0m\n\u001b[1;32m      4\u001b[0m \u001b[0;31m#pt.xscale('log')\u001b[0m\u001b[0;34m\u001b[0m\u001b[0;34m\u001b[0m\u001b[0m\n\u001b[1;32m      5\u001b[0m \u001b[0mpt\u001b[0m\u001b[0;34m.\u001b[0m\u001b[0mgrid\u001b[0m\u001b[0;34m(\u001b[0m\u001b[0;34m)\u001b[0m\u001b[0;34m\u001b[0m\u001b[0;34m\u001b[0m\u001b[0m\n",
            "\u001b[0;31mNameError\u001b[0m: name 'res' is not defined"
          ]
        }
      ]
    },
    {
      "cell_type": "code",
      "source": [
        "B0, omega = 0.12, 1/60\n",
        "Hobs = 79\n",
        "def fit_function(omega_aj, B0_aj):\n",
        "    #(B0_aj, omega_aj) = variaveis                       # variáveis do sistema\n",
        "\n",
        "    PSPUFIBGE2023      = np.array([10832832, 13556924, 12370914, 7650568])            #População Estado de SP\n",
        "    PSPIBGE2023        = np.array([2674093, 3559246, 3195600, 2023060])               #População Cidade de SP\n",
        "    vac_UFsp           = np.array([5121581, 13763379, 12133025, 7310940])             #Vacinados UF SP\n",
        "    prop_vac = np.amin(np.c_[vac_UFsp/PSPUFIBGE2023, np.ones_like(vac_UFsp)], axis=1) #Proporção VACINADOS ESTADO DE SP\n",
        "    prop_nvac = 1 - prop_vac                                                          #Proporção não VACINADOS ESTADO DE SP\n",
        "    Nwsp_i = (prop_vac)  * PSPIBGE2023                                                #Estimativa VACINADOS Cidade DE São Paulo\n",
        "    Nusp_i = (prop_nvac) * PSPIBGE2023                                                #Estimativa não VACINADOS Cidade DE São Paulo\n",
        "    PropNusp_i = Nusp_i/PSPIBGE2023\n",
        "    PropNwsp_i = Nwsp_i/PSPIBGE2023\n",
        "\n",
        "    Matrix_Contact = np.array([[12.16225114,  3.5903678,   2.56136575,  0.57682922],\n",
        "                                [ 3.26339927,  8.10131607,  4.24930738,  0.6747869 ],\n",
        "                                [ 3.14804123,  4.9774246,   5.06808749,  0.79723409],\n",
        "                                [ 2.36576344,  2.19144427,  2.07597498,  1.1998408 ]])\n",
        "    mu_0, mu_1, mu_2, mu_3 =0.091, 0.144, 0.243, 0.473\n",
        "    sigma_0, sigma_1, sigma_2, sigma_3 =0.001, 0.008, 0.021, 0.101\n",
        "    alpha_0, alpha_1, alpha_2, alpha_3 =0.695, 0.440, 0.440, 0.310\n",
        "    nu_0, nu_1, nu_2, nu_3 =1/9.59, 1/9.217,1/10.941, 1/12.534\n",
        "    ro, tau, eta, gamma = 0.5, 0.5, 0.5, 1/5.8\n",
        "\n",
        "    Sigma = np.array([sigma_0, sigma_1, sigma_2, sigma_3])\n",
        "    Alpha = np.r_[alpha_0, alpha_1, alpha_2, alpha_3]\n",
        "    Nu = np.array([nu_0, nu_1, nu_2, nu_3])\n",
        "\n",
        "    E_Bn,  E_Bu,  E_Bv,  E_Bw  = 0, 0.599, 0.599, 0.599  # Efficacy (observed) against infectious contact 0, 0.499, 0.599, 0.699\n",
        "    E_IHn, E_IHu, E_IHv, E_IHw = 0, 0.659, 0.659, 0.659  # Efficacy against clinical symptoms 0, 0.549, 0.659, 0.859\n",
        "    E_Sn,  E_Su,  E_Sv,  E_Sw  = 0, 0.759, 0.759, 0.759  # Efficacy against hospitaization of infected individual 0, 0.599, 0.699, 0.89\n",
        "\n",
        "    E_B  = np.array([E_Bn,E_Bu,E_Bv,E_Bw])\n",
        "    E_IH = np.r_[E_IHn,E_IHu,E_IHv,E_IHw]\n",
        "    E_S  = np.r_[E_Sn,E_Su,E_Sv,E_Sw]\n",
        "\n",
        "    Epsilon_Bj = np.array([1-E_Bn,1-E_Bu,1-E_Bv,1-E_Bw])            #Epsilon_Bn,Epsilon_Bu,Epsilon_Bv,Epsilon_Bw\n",
        "    Epsilon_Sj = np.array([(1-E_Sn)/(1-E_Bn), (1-E_Su)/(1-E_Bu),    #Epsilon_sigma\n",
        "                            (1-E_Sv)/(1-E_Bv),(1-E_Sw)/(1-E_Bw)])    #Epsilon_Sn,Epsilon_Su,Epsilon_Sv,Epsilon_Sw\n",
        "    Epsilon_Aj = (((1-E_IH)*(Sigma+(1-Sigma)*(1-Alpha))-(1-E_S)*Sigma)/\n",
        "                  ((Epsilon_Bj)*(1-Epsilon_Sj*Sigma)*(1-Alpha)))\n",
        "\n",
        "    #sigma_Epsilon, alpha_Epsilon = Epsilon_Sj*Sigma, Epsilon_Aj*Alpha\n",
        "    sigma_Epsilon = np.outer(Sigma, Epsilon_Sj)\n",
        "    alpha_Epsilon = np.outer(Alpha, Epsilon_Aj)\n",
        "\n",
        "    DeltaA = (1-sigma_Epsilon) * alpha_Epsilon\n",
        "    DeltaI = (1-sigma_Epsilon) * (1-alpha_Epsilon)\n",
        "    DeltaH = sigma_Epsilon\n",
        "\n",
        "    Tetha2u, Tetha2w = np.zeros(4), np.zeros(4)\n",
        "    for i in range(4):\n",
        "        Tetha2u[i] = ro/gamma + (DeltaA[i,1] +(1-tau)*DeltaI[i,1] +(1-eta)*DeltaH[i,1])/Nu[i]\n",
        "        Tetha2w[i] = ro/gamma + (DeltaA[i,3] +(1-tau)*DeltaI[i,3] +(1-eta)*DeltaH[i,3])/Nu[i]\n",
        "\n",
        "    def sist(Lambdai):\n",
        "        return ( B0_aj * np.dot(Matrix_Contact,\n",
        "          Lambdai*( (Epsilon_Bj*[1] * Tetha2u * PropNusp_i)/(1+Epsilon_Bj*[1]*Tetha2u*Lambdai)\n",
        "          + (Epsilon_Bj*[3] * Tetha2w * PropNwsp_i)/(1+Epsilon_Bj*[3]*Tetha2w*Lambdai) )) - Lambdai )\n",
        "\n",
        "    lamb = fsolve(sist, np.ones(4) * 1)\n",
        "    Theta1 = 1/Nu + 1/omega_aj + 1/gamma\n",
        "\n",
        "    Sucalc = Nusp_i /(1 + lamb * Epsilon_Bj[1] * Theta1)\n",
        "    Swcalc = Nwsp_i /(1 + lamb * Epsilon_Bj[3] * Theta1)\n",
        "\n",
        "    Hucalc = Sucalc * lamb * Epsilon_Bj[1] * DeltaH[:,1] / Nu\n",
        "    Hwcalc = Swcalc * lamb * Epsilon_Bj[3] * DeltaH[:,3] / Nu\n",
        "\n",
        "    Htot = Hucalc.sum() + Hwcalc.sum()\n",
        "\n",
        "    return Htot - Hobs"
      ],
      "metadata": {
        "id": "Ygyriysf-tiD"
      },
      "execution_count": null,
      "outputs": []
    },
    {
      "cell_type": "code",
      "source": [
        "s0 = (1/60,)\n",
        "s = least_squares(fit_function, s0, gtol=None, max_nfev=1000, bounds = [1/400, 1/20], args=(1.44334e-2,))\n",
        "print(s)\n",
        "print(1/s.x[0])"
      ],
      "metadata": {
        "id": "1LnullHV_XHB"
      },
      "execution_count": null,
      "outputs": []
    },
    {
      "cell_type": "code",
      "source": [
        "res = np.c_[omegas, beta0]\n",
        "pt.plot(1/res[1:,0], res[1:,2])"
      ],
      "metadata": {
        "id": "QFwUL1I1_orN"
      },
      "execution_count": null,
      "outputs": []
    },
    {
      "cell_type": "markdown",
      "source": [
        "#Próximos passos\n",
        "\n",
        "para ajustar para outras cidades, os parâmetros que mudam:\n",
        "* vetor de população Estado\n",
        "* vetor de população cidade\n",
        "* proporção de vacinados por faixa etária\n",
        "* número de hospitalizações observados\n",
        "* recalcular matriz de contato\n",
        "\n",
        "## teste\n",
        "* simular o modelo\n",
        "* comparar com modelo simples (ver foto)\n"
      ],
      "metadata": {
        "id": "KfKftqRi_Iqe"
      }
    },
    {
      "cell_type": "code",
      "source": [],
      "metadata": {
        "id": "uTIXh2fN_USb"
      },
      "execution_count": null,
      "outputs": []
    }
  ],
  "metadata": {
    "colab": {
      "provenance": []
    },
    "kernelspec": {
      "display_name": "Python 3 (ipykernel)",
      "language": "python",
      "name": "python3"
    },
    "language_info": {
      "codemirror_mode": {
        "name": "ipython",
        "version": 3
      },
      "file_extension": ".py",
      "mimetype": "text/x-python",
      "name": "python",
      "nbconvert_exporter": "python",
      "pygments_lexer": "ipython3",
      "version": "3.9.7"
    }
  },
  "nbformat": 4,
  "nbformat_minor": 0
}